{
  "nbformat": 4,
  "nbformat_minor": 0,
  "metadata": {
    "colab": {
      "provenance": [],
      "authorship_tag": "ABX9TyPwgMB+gXfvq0U6T/cetQVU",
      "include_colab_link": true
    },
    "kernelspec": {
      "name": "python3",
      "display_name": "Python 3"
    },
    "language_info": {
      "name": "python"
    }
  },
  "cells": [
    {
      "cell_type": "markdown",
      "metadata": {
        "id": "view-in-github",
        "colab_type": "text"
      },
      "source": [
        "<a href=\"https://colab.research.google.com/github/putrisittinaima/Final-Test-ETL-Data-Warehouse/blob/main/Putri_Sitti_Naima_Final_Test_ETL.ipynb\" target=\"_parent\"><img src=\"https://colab.research.google.com/assets/colab-badge.svg\" alt=\"Open In Colab\"/></a>"
      ]
    },
    {
      "cell_type": "markdown",
      "source": [
        "API Request"
      ],
      "metadata": {
        "id": "VXPqyeLuWOIv"
      }
    },
    {
      "cell_type": "code",
      "execution_count": null,
      "metadata": {
        "id": "lXh86aUiWL_j"
      },
      "outputs": [],
      "source": [
        "import requests\n",
        "import pandas as pd\n",
        "\n",
        "# Membuat API request\n",
        "url = \"https://berita-indo-api-next.vercel.app/api/cnn-news/teknologi\"\n",
        "response = requests.get(url)\n",
        "\n",
        "# Memeriksa status response\n",
        "if response.status_code == 200:\n",
        "    print(\"Berhasil mendapatkan data dari API\")\n",
        "else:\n",
        "    print(\"Gagal mendapatkan data dari API\")\n",
        "\n",
        "# Mengambil data JSON\n",
        "data = response.json()"
      ]
    },
    {
      "cell_type": "markdown",
      "source": [
        "Data Transformation"
      ],
      "metadata": {
        "id": "pC9YGxVyWUIw"
      }
    },
    {
      "cell_type": "code",
      "source": [
        "# Mengambil data dari key 'data'\n",
        "df = pd.DataFrame(data['data'])\n",
        "\n",
        "# Transformasi data kolom 'isoDate' menjadi tipe data datetime\n",
        "df['isoDate'] = pd.to_datetime(df['isoDate'])"
      ],
      "metadata": {
        "id": "y0b0ZdD3WYuU"
      },
      "execution_count": null,
      "outputs": []
    },
    {
      "cell_type": "markdown",
      "source": [
        "Data Aggregation"
      ],
      "metadata": {
        "id": "7t7qjh-AWbhT"
      }
    },
    {
      "cell_type": "code",
      "source": [
        "# Aggregasi data berdasarkan kolom 'creator'\n",
        "aggregated_df = df.groupby('creator').agg({'id': 'count'}).reset_index()\n",
        "\n",
        "# Urutkan berdasarkan jumlah berita terbanyak\n",
        "sorted_df = aggregated_df.sort_values(by='id', ascending=False)"
      ],
      "metadata": {
        "id": "ZcWPh7fbWdi7"
      },
      "execution_count": null,
      "outputs": []
    },
    {
      "cell_type": "markdown",
      "source": [
        "Data Frame"
      ],
      "metadata": {
        "id": "76bHCYpoavoh"
      }
    },
    {
      "cell_type": "code",
      "source": [
        "print(sorted_df.to_string())\n",
        "pd.set_option('display.max_rows', None)"
      ],
      "metadata": {
        "id": "wmFMeGksaxpo"
      },
      "execution_count": null,
      "outputs": []
    }
  ]
}